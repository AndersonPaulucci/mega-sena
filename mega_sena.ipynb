{
 "cells": [
  {
   "cell_type": "code",
   "execution_count": 41,
   "metadata": {
    "collapsed": true
   },
   "outputs": [],
   "source": [
    "import pandas as pd"
   ]
  },
  {
   "cell_type": "code",
   "execution_count": 37,
   "metadata": {
    "collapsed": true
   },
   "outputs": [],
   "source": [
    "import codecs\n",
    "from bs4 import BeautifulSoup"
   ]
  },
  {
   "cell_type": "code",
   "execution_count": 38,
   "metadata": {
    "collapsed": true
   },
   "outputs": [],
   "source": [
    "f = codecs.open(\"MEGA_SENA\", 'r')\n",
    "\n",
    "soup = BeautifulSoup(f.read(), 'html.parser')\n",
    "\n",
    "table = soup.find(\"table\")\n",
    "\n",
    "rows = table.findAll('tr')\n",
    "\n",
    "concursos = []\n",
    "datas = []\n",
    "numeros_1 = []\n",
    "numeros_2 = []\n",
    "numeros_3 = []\n",
    "numeros_4 = []\n",
    "numeros_5 = []\n",
    "numeros_6 = []\n",
    "list_ganhadores_sena = []\n",
    "list_ganhadores_quina = []\n",
    "list_ganhadores_quadra = []\n",
    "\n",
    "for tr in rows:\n",
    "    cols = tr.findAll('td')\n",
    "    if len(cols) > 3:\n",
    "        concurso, data, numero_1, numero_2, numero_3, numero_4, numero_5, numero_6, arrecadacao, ganhadores_sena, \\\n",
    "        cidade, uf, rateio_sena, ganhadores_quina, rateio_quina, ganhadores_quadra, rateio_quadra, acumulado, \\\n",
    "        valor_acomulado, estimativa, acomulado_mega_virada = [c.text for c in cols]\n",
    "        concursos += [int(concurso)]\n",
    "        datas += [str(data)]\n",
    "        numeros_1 += [int(numero_1)]\n",
    "        numeros_2 += [int(numero_2)]\n",
    "        numeros_3 += [int(numero_3)]\n",
    "        numeros_4 += [int(numero_4)]\n",
    "        numeros_5 += [int(numero_5)]\n",
    "        numeros_6 += [int(numero_6)]\n",
    "        list_ganhadores_sena += [int(ganhadores_sena)]\n",
    "        list_ganhadores_quina += [int(ganhadores_quina)]\n",
    "        list_ganhadores_quadra += [int(ganhadores_quadra)]\n",
    "\n",
    "mega_sena = {'concursos': concursos,\n",
    "             'datas': datas,\n",
    "             'numeros_1': numeros_1,\n",
    "             'numeros_2': numeros_2,\n",
    "             'numeros_3': numeros_3,\n",
    "             'numeros_4': numeros_4,\n",
    "             'numeros_5': numeros_5,\n",
    "             'numeros_6': numeros_6,\n",
    "             'list_ganhadores_sena': list_ganhadores_sena,\n",
    "             'list_ganhadores_quina': list_ganhadores_quina,\n",
    "             'list_ganhadores_quadra': list_ganhadores_quadra}"
   ]
  },
  {
   "cell_type": "code",
   "execution_count": 39,
   "metadata": {
    "collapsed": true
   },
   "outputs": [],
   "source": [
    "mega_senas = pd.DataFrame(mega_sena)"
   ]
  }
 ],
 "metadata": {
  "kernelspec": {
   "display_name": "Python 2",
   "language": "python",
   "name": "python2"
  },
  "language_info": {
   "codemirror_mode": {
    "name": "ipython",
    "version": 2.0
   },
   "file_extension": ".py",
   "mimetype": "text/x-python",
   "name": "python",
   "nbconvert_exporter": "python",
   "pygments_lexer": "ipython2",
   "version": "2.7.12"
  }
 },
 "nbformat": 4,
 "nbformat_minor": 0
}